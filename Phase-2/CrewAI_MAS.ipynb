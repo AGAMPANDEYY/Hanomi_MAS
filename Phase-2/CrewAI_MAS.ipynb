{
  "nbformat": 4,
  "nbformat_minor": 0,
  "metadata": {
    "colab": {
      "provenance": []
    },
    "kernelspec": {
      "name": "python3",
      "display_name": "Python 3"
    },
    "language_info": {
      "name": "python"
    }
  },
  "cells": [
    {
      "cell_type": "code",
      "source": [
        "!pip install -q crewai==0.28.8 crewai_tools==0.1.6 langchain_community==0.0.29"
      ],
      "metadata": {
        "colab": {
          "base_uri": "https://localhost:8080/"
        },
        "id": "0vfUhBL-nr-g",
        "outputId": "d27782e9-a396-4195-9879-2c26d63290f6"
      },
      "execution_count": null,
      "outputs": [
        {
          "output_type": "stream",
          "name": "stdout",
          "text": [
            "\u001b[2K     \u001b[90m━━━━━━━━━━━━━━━━━━━━━━━━━━━━━━━━━━━━━━━━\u001b[0m \u001b[32m1.0/1.0 MB\u001b[0m \u001b[31m7.3 MB/s\u001b[0m eta \u001b[36m0:00:00\u001b[0m\n",
            "\u001b[2K     \u001b[90m━━━━━━━━━━━━━━━━━━━━━━━━━━━━━━━━━━━━━━━━\u001b[0m \u001b[32m867.6/867.6 kB\u001b[0m \u001b[31m12.6 MB/s\u001b[0m eta \u001b[36m0:00:00\u001b[0m\n",
            "\u001b[2K     \u001b[90m━━━━━━━━━━━━━━━━━━━━━━━━━━━━━━━━━━━━━━━━\u001b[0m \u001b[32m817.7/817.7 kB\u001b[0m \u001b[31m16.9 MB/s\u001b[0m eta \u001b[36m0:00:00\u001b[0m\n",
            "\u001b[2K     \u001b[90m━━━━━━━━━━━━━━━━━━━━━━━━━━━━━━━━━━━━━━━━\u001b[0m \u001b[32m814.5/814.5 kB\u001b[0m \u001b[31m18.0 MB/s\u001b[0m eta \u001b[36m0:00:00\u001b[0m\n",
            "\u001b[2K     \u001b[90m━━━━━━━━━━━━━━━━━━━━━━━━━━━━━━━━━━━━━━━━\u001b[0m \u001b[32m812.8/812.8 kB\u001b[0m \u001b[31m21.2 MB/s\u001b[0m eta \u001b[36m0:00:00\u001b[0m\n",
            "\u001b[2K     \u001b[90m━━━━━━━━━━━━━━━━━━━━━━━━━━━━━━━━━━━━━━━━\u001b[0m \u001b[32m810.5/810.5 kB\u001b[0m \u001b[31m24.9 MB/s\u001b[0m eta \u001b[36m0:00:00\u001b[0m\n",
            "\u001b[2K     \u001b[90m━━━━━━━━━━━━━━━━━━━━━━━━━━━━━━━━━━━━━━━━\u001b[0m \u001b[32m467.7/467.7 kB\u001b[0m \u001b[31m23.5 MB/s\u001b[0m eta \u001b[36m0:00:00\u001b[0m\n",
            "\u001b[2K     \u001b[90m━━━━━━━━━━━━━━━━━━━━━━━━━━━━━━━━━━━━━━━━\u001b[0m \u001b[32m62.7/62.7 kB\u001b[0m \u001b[31m4.4 MB/s\u001b[0m eta \u001b[36m0:00:00\u001b[0m\n",
            "\u001b[2K     \u001b[90m━━━━━━━━━━━━━━━━━━━━━━━━━━━━━━━━━━━━━━━━\u001b[0m \u001b[32m856.7/856.7 kB\u001b[0m \u001b[31m24.7 MB/s\u001b[0m eta \u001b[36m0:00:00\u001b[0m\n",
            "\u001b[2K     \u001b[90m━━━━━━━━━━━━━━━━━━━━━━━━━━━━━━━━━━━━━━━━\u001b[0m \u001b[32m98.7/98.7 kB\u001b[0m \u001b[31m2.8 MB/s\u001b[0m eta \u001b[36m0:00:00\u001b[0m\n",
            "\u001b[2K     \u001b[90m━━━━━━━━━━━━━━━━━━━━━━━━━━━━━━━━━━━━━━━━\u001b[0m \u001b[32m194.4/194.4 kB\u001b[0m \u001b[31m9.0 MB/s\u001b[0m eta \u001b[36m0:00:00\u001b[0m\n",
            "\u001b[2K     \u001b[90m━━━━━━━━━━━━━━━━━━━━━━━━━━━━━━━━━━━━━━━━\u001b[0m \u001b[32m2.1/2.1 MB\u001b[0m \u001b[31m15.5 MB/s\u001b[0m eta \u001b[36m0:00:00\u001b[0m\n",
            "\u001b[2K     \u001b[90m━━━━━━━━━━━━━━━━━━━━━━━━━━━━━━━━━━━━━━━━\u001b[0m \u001b[32m3.0/3.0 MB\u001b[0m \u001b[31m7.9 MB/s\u001b[0m eta \u001b[36m0:00:00\u001b[0m\n",
            "\u001b[2K     \u001b[90m━━━━━━━━━━━━━━━━━━━━━━━━━━━━━━━━━━━━━━━━\u001b[0m \u001b[32m91.8/91.8 kB\u001b[0m \u001b[31m6.2 MB/s\u001b[0m eta \u001b[36m0:00:00\u001b[0m\n",
            "\u001b[?25h\u001b[31mERROR: pip's dependency resolver does not currently take into account all the packages that are installed. This behaviour is the source of the following dependency conflicts.\n",
            "fastapi-cli 0.0.4 requires typer>=0.12.3, but you have typer 0.9.4 which is incompatible.\n",
            "langchain-experimental 0.0.62 requires langchain-community<0.3.0,>=0.2.6, but you have langchain-community 0.0.29 which is incompatible.\n",
            "langchain-experimental 0.0.62 requires langchain-core<0.3.0,>=0.2.10, but you have langchain-core 0.1.52 which is incompatible.\n",
            "langgraph 0.1.4 requires langchain-core<0.3,>=0.2, but you have langchain-core 0.1.52 which is incompatible.\u001b[0m\u001b[31m\n",
            "\u001b[0m"
          ]
        }
      ]
    },
    {
      "cell_type": "code",
      "source": [
        "!pip install -q 'crewai[tools]'"
      ],
      "metadata": {
        "colab": {
          "base_uri": "https://localhost:8080/"
        },
        "id": "OvZBG623sS2c",
        "outputId": "dae7e376-e131-4e80-c9a2-69bd6a02e9e0"
      },
      "execution_count": null,
      "outputs": [
        {
          "output_type": "stream",
          "name": "stdout",
          "text": [
            "\u001b[?25l     \u001b[90m━━━━━━━━━━━━━━━━━━━━━━━━━━━━━━━━━━━━━━━━\u001b[0m \u001b[32m0.0/48.0 kB\u001b[0m \u001b[31m?\u001b[0m eta \u001b[36m-:--:--\u001b[0m\r\u001b[2K     \u001b[90m━━━━━━━━━━━━━━━━━━━━━━━━━━━━━━━━━━━━━━━━\u001b[0m \u001b[32m48.0/48.0 kB\u001b[0m \u001b[31m2.1 MB/s\u001b[0m eta \u001b[36m0:00:00\u001b[0m\n",
            "\u001b[?25h"
          ]
        }
      ]
    },
    {
      "cell_type": "code",
      "source": [
        "!pip install --upgrade -q crewai instructor"
      ],
      "metadata": {
        "id": "7g6V1bOrsqJ-"
      },
      "execution_count": null,
      "outputs": []
    },
    {
      "cell_type": "code",
      "execution_count": null,
      "metadata": {
        "id": "EktPsmUDmcHl"
      },
      "outputs": [],
      "source": [
        "import os\n",
        "\n",
        "from crewai import Agent,Task, Crew, Process\n",
        "from crewai_tools import SerperDevTool\n",
        "\n",
        "from langchain.agents import load_tools\n",
        "from langchain_openai import ChatOpenAI\n",
        "\n",
        "api_key=\"sk-proj-9WrNxL8mwGR71Nsg5dlPT3BlbkFJnK22yo3Hw5SraFohJ2DF\"\n",
        "os.environ[\"OPENAI_API_KEY\"]=api_key\n",
        "os.environ[\"SERPER_API_KEY\"] = \"Y\""
      ]
    },
    {
      "cell_type": "markdown",
      "source": [
        "### Loading llm"
      ],
      "metadata": {
        "id": "Xvefj7R0nP4f"
      }
    },
    {
      "cell_type": "code",
      "source": [
        "llm=ChatOpenAI(temperature=0,model=\"gpt-4-1106-preview\")\n",
        "llm_vision= ChatOpenAI(temperature=0, model=\"gpt-4-vision-preview\", max_tokens=1024)"
      ],
      "metadata": {
        "id": "KgCSsaTPnSKu"
      },
      "execution_count": null,
      "outputs": []
    },
    {
      "cell_type": "markdown",
      "source": [
        "### Construct Tool"
      ],
      "metadata": {
        "id": "n-GNE8TJt5Wh"
      }
    },
    {
      "cell_type": "code",
      "source": [
        "from crewai_tools import ScrapeWebsiteTool, SerperDevTool\n",
        "\n",
        "search_tool = SerperDevTool()"
      ],
      "metadata": {
        "id": "ioW0aXL2uwpW"
      },
      "execution_count": null,
      "outputs": []
    },
    {
      "cell_type": "markdown",
      "source": [
        "## Creating Prompt Template"
      ],
      "metadata": {
        "id": "7Xb-thxu_ydD"
      }
    },
    {
      "cell_type": "code",
      "source": [
        "input_data = {\n",
        "    \"prompts\": [\n",
        "        [\"what is happening in this image?\", [\"/content/Word Embeddings.png\"]],\n",
        "        #[\"give me an essay related to this image\", [\"/content/WhatsApp Image 2024-06-27 at 8.21.50 PM.jpeg\"]],\n",
        "        [\"also explain me its importance with respect to NLP\"]\n",
        "    ],\n",
        "    \"output_format\": \"JSON\",\n",
        "    \"example_output_structure\": \"{pic1: [fruit1, colorA] , pic2: [fruit2, colorX], pic3: [fruit3, colorY]}\",\n",
        "    \"max_iterations\": 5\n",
        "}"
      ],
      "metadata": {
        "id": "EqBDs6OV_02S"
      },
      "execution_count": null,
      "outputs": []
    },
    {
      "cell_type": "code",
      "source": [
        "img_path=\"/content/Word Embeddings.png\""
      ],
      "metadata": {
        "id": "SLY9ouilJdv8"
      },
      "execution_count": null,
      "outputs": []
    },
    {
      "cell_type": "code",
      "source": [
        "output_format=input_data['output_format']"
      ],
      "metadata": {
        "id": "feOTdNUNMuFK"
      },
      "execution_count": null,
      "outputs": []
    },
    {
      "cell_type": "markdown",
      "source": [
        "## Extracting the prompts"
      ],
      "metadata": {
        "id": "xpliv7rzSBxr"
      }
    },
    {
      "cell_type": "code",
      "source": [
        "# Function to parse input_data and extract prompts\n",
        "def parse_input(input_data):\n",
        "    prompts = []\n",
        "    for item in input_data['prompts']:\n",
        "        text_prompt = None\n",
        "        image_path = None\n",
        "        for element in item:\n",
        "            if isinstance(element, str):\n",
        "                text_prompt = element\n",
        "            elif isinstance(element, list) and element and isinstance(element[0], str):\n",
        "                image_path = element[0]\n",
        "        prompts.append((text_prompt, image_path))\n",
        "    return prompts\n",
        "\n",
        "prompts=parse_input(input_data)"
      ],
      "metadata": {
        "id": "OhyQ819sR9Kj"
      },
      "execution_count": null,
      "outputs": []
    },
    {
      "cell_type": "markdown",
      "source": [
        "## Creating a Moderator"
      ],
      "metadata": {
        "id": "i61WBo9h4I4d"
      }
    },
    {
      "cell_type": "code",
      "source": [
        "# Define the manager agent\n",
        "moderator = Agent(\n",
        "    role=\"Manager\",\n",
        "    goal=\"Manage the crew and ensure the tasks are completed efficiently.\",\n",
        "    backstory=\"You're an experienced manager, skilled in overseeing complex projects and guiding teams to success. Your role is to coordinate the efforts of the crew members, ensuring that each task is completed on time and to the highest standard.\"\n",
        "    f\"the agents must interact and if one fails to give output, other should have a conversational text and the output of each agent should be mainatned in format{output_format}\",\n",
        "    allow_delegation=False,\n",
        "    #prompt_template=input_data,\n",
        "    #response_template=input_data['example_output_structure'],\n",
        ")"
      ],
      "metadata": {
        "id": "ew4gr4iq4L6V"
      },
      "execution_count": null,
      "outputs": []
    },
    {
      "cell_type": "markdown",
      "source": [
        "### Construct Agents"
      ],
      "metadata": {
        "id": "ORZc2YPtnmaK"
      }
    },
    {
      "cell_type": "code",
      "source": [
        "ImageAnalyserAgent = Agent(\n",
        "  role='Image Analyser Agent',\n",
        "  goal= f\"You will use the provided tool to analyze image in the path {img_path} and respond to queries about them given in {prompts} and Remember to maintain the output schema mentioned in the {input_data}\"\n",
        "    f\"Return the correct output format to the supervisor. Format is {output_format}\"\n",
        "    \"You are working in a multi agent environment so collaborate with the other agent as well\",\n",
        "  backstory=\"\"\"You are a an experienced employee in understanding the contents of an image and responding to any questions by user.\n",
        "  You are an intelligent agent specializing in image analysis.\"\"\"\n",
        "  f\"Return the correct output format to the supervisor. Format is {output_format}\",\n",
        "\n",
        "  verbose=True,\n",
        "  allow_delegation=False,\n",
        "  #system_template=,\n",
        "  #prompt_template=input_data,\n",
        "  #response_template=input_data['example_output_structure'],\n",
        "  #max_rpm=, # max number of requests per minute\n",
        "  max_iter=5, #max number of iterations of the agent\n",
        "  llm=llm_vision,\n",
        ")\n",
        "ConversationAgent = Agent(\n",
        "  role='Conveersation Q/A Agent',\n",
        "  goal=f\"Answer questions by the user {prompts} and be conversational\"\n",
        "   f\"You will use the provided tool to analyze text and respond to queries about them and Remember to maintain the output format {output_format}\",\n",
        "  backstory=\"\"\" You are an intelligent agent specializing in text analysis and conversation to solve user's problems\"\n",
        "    \"You are working in a multi agent environment so collaborate with the other agent as well.\"\"\",\n",
        "  verbose=True,\n",
        "  allow_delegation=True,\n",
        "  #system_template=,\n",
        "  #prompt_template=input_data,\n",
        "  #response_template=input_data['example_output_structure'],\n",
        "  llm=llm\n",
        ")"
      ],
      "metadata": {
        "id": "05S3J8QxnnuX"
      },
      "execution_count": null,
      "outputs": []
    },
    {
      "cell_type": "markdown",
      "source": [
        "## Defining Tasks for agents"
      ],
      "metadata": {
        "id": "Ytndt4iiuFS5"
      }
    },
    {
      "cell_type": "code",
      "source": [
        "# Create tasks for your agents\n",
        "task1 = Task(\n",
        "  description=\"\"\"See the image studey it and analyse it. Also work with the ConversationAgent to solve user's questions\"\"\",\n",
        "  expected_output=f\"The output should be in lines with the format user has given in {output_format}\",\n",
        "  agent=ImageAnalyserAgent\n",
        ")\n",
        "\n",
        "task2 = Task(\n",
        "  description=\"\"\"To understand the prompts sent by the user and have a conversation to solve the question.\"\"\",\n",
        "  expected_output=f\"The output should be in lines with the format user has given in {output_format}\",\n",
        "  agent=ConversationAgent\n",
        ")"
      ],
      "metadata": {
        "id": "pUtveOD0uHKK"
      },
      "execution_count": null,
      "outputs": []
    },
    {
      "cell_type": "markdown",
      "source": [
        "## Creating type of process\n",
        "\n",
        "- Sequential\n",
        "- Hierarchial"
      ],
      "metadata": {
        "id": "w25kQiiO0KzU"
      }
    },
    {
      "cell_type": "markdown",
      "source": [
        "\n",
        "\n",
        "## Input Schema:\n"
      ],
      "metadata": {
        "id": "6GW9TFZWv2Uv"
      }
    },
    {
      "cell_type": "code",
      "source": [
        "input_schema = {\n",
        "  \"type\": \"object\",\n",
        "  \"properties\": {\n",
        "    \"prompts\": {\n",
        "      \"type\": \"array\",\n",
        "      \"items\": {\n",
        "        \"type\": \"array\",\n",
        "        \"items\": {\"type\": [\"string\",\"array\"]}\n",
        "      }\n",
        "    },\n",
        "    \"output_format\": {\n",
        "      \"type\": \"string\",\n",
        "      \"enum\": [\"list\", \"dict\", \"JSON\"]\n",
        "    },\n",
        "    \"example_output_structure\": {\"type\": \"string\"},\n",
        "    \"max_iterations\": {\"type\": \"integer\"}\n",
        "  },\n",
        "  \"required\": [\"prompts\", \"output_format\", \"example_output_structure\", \"max_iterations\"]\n",
        "}"
      ],
      "metadata": {
        "id": "mtHZZnDYwGVO"
      },
      "execution_count": null,
      "outputs": []
    },
    {
      "cell_type": "markdown",
      "source": [
        "## Input Data\n",
        "\n",
        "- Enter the ImagePath as list"
      ],
      "metadata": {
        "id": "kGo7JdlRwKzB"
      }
    },
    {
      "cell_type": "code",
      "source": [
        "input_data = {\n",
        "    \"prompts\": [\n",
        "        [\"what is happening in this image?\", [\"/content/Word Embeddings.png\"]],\n",
        "        #[\"give me an essay related to this image\", [\"/content/WhatsApp Image 2024-06-27 at 8.21.50 PM.jpeg\"]],\n",
        "        [\"also i want to become like the person in this image what should i do?\"]\n",
        "    ],\n",
        "    \"output_format\": \"JSON\",\n",
        "    \"example_output_structure\": \"{pic1: [fruit1, colorA] , pic2: [fruit2, colorX], pic3: [fruit3, colorY]}\",\n",
        "    \"max_iterations\": 5\n",
        "}\n"
      ],
      "metadata": {
        "id": "fjzIiXhyv7Y5"
      },
      "execution_count": null,
      "outputs": []
    },
    {
      "cell_type": "markdown",
      "source": [
        "## Validating the input data"
      ],
      "metadata": {
        "id": "_8OwpLp36h0b"
      }
    },
    {
      "cell_type": "code",
      "source": [
        "import jsonschema\n",
        "from jsonschema import validate\n",
        "import json\n",
        "\n",
        "# Function to validate input\n",
        "def validate_input(input_data):\n",
        "    try:\n",
        "        validate(instance=input_data, schema=input_schema)\n",
        "    except jsonschema.exceptions.ValidationError as e:\n",
        "        return False, str(e)\n",
        "    return True, \"\""
      ],
      "metadata": {
        "id": "28A_fvKV6guH"
      },
      "execution_count": null,
      "outputs": []
    },
    {
      "cell_type": "code",
      "source": [
        "validate_input(input_data)"
      ],
      "metadata": {
        "colab": {
          "base_uri": "https://localhost:8080/"
        },
        "id": "tQC9V3-r68bn",
        "outputId": "8ff2b7f0-1b7b-441a-c349-a3debd5ef0dc"
      },
      "execution_count": null,
      "outputs": [
        {
          "output_type": "execute_result",
          "data": {
            "text/plain": [
              "(True, '')"
            ]
          },
          "metadata": {},
          "execution_count": 144
        }
      ]
    },
    {
      "cell_type": "code",
      "source": [
        "# Instantiate your crew with a sequential process\n",
        "crew = Crew(\n",
        "  agents=[ImageAnalyserAgent,ConversationAgent],\n",
        "  tasks=[task1,task2],\n",
        "  verbose=2, # You can set it to 1 or 2 to different logging levels\n",
        "  #manager_llm=ChatOpenAI(temperature=0, model=\"gpt-4\"),  # Mandatory if manager_agent is not set\n",
        "  process=Process.hierarchical,  # Specifies the hierarchical management approach\n",
        "  memory=True,\n",
        "  manager_agent=moderator\n",
        ")"
      ],
      "metadata": {
        "id": "4RFcUKK7vfZu",
        "colab": {
          "base_uri": "https://localhost:8080/"
        },
        "outputId": "1d563a9c-9e13-47f4-c297-9bfcd72a2e27"
      },
      "execution_count": null,
      "outputs": [
        {
          "output_type": "stream",
          "name": "stderr",
          "text": [
            "WARNING:opentelemetry.trace:Overriding of current TracerProvider is not allowed\n"
          ]
        }
      ]
    },
    {
      "cell_type": "code",
      "source": [
        "# Get your crew to work!\n",
        "result = crew.kickoff()\n",
        "\n",
        "print(\"######################\")\n",
        "print(result)"
      ],
      "metadata": {
        "id": "_X8e3tCJvsIY",
        "colab": {
          "base_uri": "https://localhost:8080/"
        },
        "outputId": "d1a0d321-5a9d-45d6-e936-0716399e858d"
      },
      "execution_count": null,
      "outputs": [
        {
          "output_type": "stream",
          "name": "stdout",
          "text": [
            "\u001b[1m\u001b[92m [2024-06-29 09:27:56][DEBUG]: Working Agent: Manager\u001b[00m\n",
            "\u001b[1m\u001b[92m [2024-06-29 09:27:56][INFO]: Starting Task: See the image studey it and analyse it. Also work with the ConversationAgent to solve user's questions\u001b[00m\n",
            "\n",
            "\n",
            "\u001b[1m> Entering new CrewAgentExecutor chain...\u001b[0m\n",
            "\u001b[32;1m\u001b[1;3mI now can give a great answer\n",
            "\n",
            "Final Answer:\n",
            "{\n",
            "  \"Word_Embeddings.png\": [\n",
            "    {\n",
            "      \"description\": \"The image depicts a diagram illustrating the concept of word embeddings in natural language processing (NLP). There are several circles representing different words, with lines connecting them to indicate relationships. The words are positioned in a way that shows clustering of similar words based on context and meaning.\",\n",
            "      \"objects\": [\"circles\", \"lines\", \"words\"],\n",
            "      \"colors\": [\"various colors representing different clusters\"],\n",
            "      \"context\": \"Word embeddings are a type of word representation that allows words with similar meaning to have a similar representation. They are a crucial part of NLP as they help in capturing the context of words, their meaning, and their relationship with other words.\"\n",
            "    }\n",
            "  ]\n",
            "}\u001b[0m\n",
            "\n",
            "\u001b[1m> Finished chain.\u001b[0m\n",
            "\u001b[95m \n",
            "\n",
            "{\n",
            "  \"Word_Embeddings.png\": [\n",
            "    {\n",
            "      \"description\": \"The image depicts a diagram illustrating the concept of word embeddings in natural language processing (NLP). There are several circles representing different words, with lines connecting them to indicate relationships. The words are positioned in a way that shows clustering of similar words based on context and meaning.\",\n",
            "      \"objects\": [\"circles\", \"lines\", \"words\"],\n",
            "      \"colors\": [\"various colors representing different clusters\"],\n",
            "      \"context\": \"Word embeddings are a type of word representation that allows words with similar meaning to have a similar representation. They are a crucial part of NLP as they help in capturing the context of words, their meaning, and their relationship with other words.\"\n",
            "    }\n",
            "  ]\n",
            "}\n",
            "\u001b[00m\n",
            "\n",
            "\n",
            "\u001b[1m> Entering new CrewAgentExecutor chain...\u001b[0m\n",
            "\u001b[32;1m\u001b[1;3mThought: I now can give a great answer\n",
            "\n",
            "Final Answer: Word embeddings are a fundamental component in the field of Natural Language Processing (NLP). They are essentially a type of word representation that allows words with similar meaning to have a similar representation. Here are some practical applications of word embeddings in NLP:\n",
            "\n",
            "1. **Sentiment Analysis**: By understanding the nuances and context of words, word embeddings can help determine the sentiment behind texts, such as identifying whether product reviews are positive or negative.\n",
            "\n",
            "2. **Machine Translation**: Word embeddings can improve machine translation by capturing semantic meanings and syntactic structures, thereby enhancing the quality of translation between languages.\n",
            "\n",
            "3. **Information Retrieval**: Search engines can use word embeddings to understand the intent behind queries and improve the relevance of the results returned.\n",
            "\n",
            "4. **Text Classification**: They are used to classify documents into categories, which is useful for spam detection, news article categorization, and more.\n",
            "\n",
            "5. **Named Entity Recognition (NER)**: Word embeddings can help in identifying and classifying proper nouns in texts into predefined categories such as the names of persons, organizations, locations, etc.\n",
            "\n",
            "6. **Question Answering Systems**: They can enhance the performance of QA systems by helping the model understand the context of the questions and the possible answers.\n",
            "\n",
            "7. **Chatbots and Virtual Assistants**: Embeddings enable chatbots to understand user queries better and respond in a more human-like manner.\n",
            "\n",
            "8. **Predictive Text and Autocorrect**: Word embeddings can predict the next word in a sentence and are used in autocorrect features to understand the context of misspelled words.\n",
            "\n",
            "9. **Speech Recognition**: They help in converting speech to text by understanding the context and relationships between spoken words.\n",
            "\n",
            "10. **Bioinformatics**: In bioinformatics, word embeddings can be used to process genetic data, helping in tasks like protein function prediction.\n",
            "\n",
            "The importance of word embeddings in NLP cannot be overstated. They allow for the efficient processing of large vocabularies and enable the capture of syntactic and semantic word relationships, which is crucial for the performance of various NLP tasks. By providing a dense and meaningful representation of words, they help overcome the limitations of traditional bag-of-words models, which ignore the context and order of words.\u001b[0m\n",
            "\n",
            "\u001b[1m> Finished chain.\u001b[0m\n",
            "\u001b[95m \n",
            "\n",
            "Word embeddings are a fundamental component in the field of Natural Language Processing (NLP). They are essentially a type of word representation that allows words with similar meaning to have a similar representation. Here are some practical applications of word embeddings in NLP:\n",
            "\n",
            "1. **Sentiment Analysis**: By understanding the nuances and context of words, word embeddings can help determine the sentiment behind texts, such as identifying whether product reviews are positive or negative.\n",
            "\n",
            "2. **Machine Translation**: Word embeddings can improve machine translation by capturing semantic meanings and syntactic structures, thereby enhancing the quality of translation between languages.\n",
            "\n",
            "3. **Information Retrieval**: Search engines can use word embeddings to understand the intent behind queries and improve the relevance of the results returned.\n",
            "\n",
            "4. **Text Classification**: They are used to classify documents into categories, which is useful for spam detection, news article categorization, and more.\n",
            "\n",
            "5. **Named Entity Recognition (NER)**: Word embeddings can help in identifying and classifying proper nouns in texts into predefined categories such as the names of persons, organizations, locations, etc.\n",
            "\n",
            "6. **Question Answering Systems**: They can enhance the performance of QA systems by helping the model understand the context of the questions and the possible answers.\n",
            "\n",
            "7. **Chatbots and Virtual Assistants**: Embeddings enable chatbots to understand user queries better and respond in a more human-like manner.\n",
            "\n",
            "8. **Predictive Text and Autocorrect**: Word embeddings can predict the next word in a sentence and are used in autocorrect features to understand the context of misspelled words.\n",
            "\n",
            "9. **Speech Recognition**: They help in converting speech to text by understanding the context and relationships between spoken words.\n",
            "\n",
            "10. **Bioinformatics**: In bioinformatics, word embeddings can be used to process genetic data, helping in tasks like protein function prediction.\n",
            "\n",
            "The importance of word embeddings in NLP cannot be overstated. They allow for the efficient processing of large vocabularies and enable the capture of syntactic and semantic word relationships, which is crucial for the performance of various NLP tasks. By providing a dense and meaningful representation of words, they help overcome the limitations of traditional bag-of-words models, which ignore the context and order of words.\n",
            "\u001b[00m\n",
            "Formatting errors incremented\n",
            "\u001b[1m\u001b[92m [2024-06-29 09:28:33][DEBUG]: [Manager] Task output: ```json\n",
            "{\n",
            "  \"image_analysis\": {\n",
            "    \"Word_Embeddings.png\": [\n",
            "      {\n",
            "        \"description\": \"The image depicts a diagram illustrating the concept of word embeddings in natural language processing (NLP). There are several circles representing different words, with lines connecting them to indicate relationships. The words are positioned in a way that shows clustering of similar words based on context and meaning.\",\n",
            "        \"objects\": [\"circles\", \"lines\", \"words\"],\n",
            "        \"colors\": [\"various colors representing different clusters\"],\n",
            "        \"context\": \"Word embeddings are a type of word representation that allows words with similar meaning to have a similar representation. They are a crucial part of NLP as they help in capturing the context of words, their meaning, and their relationship with other words.\"\n",
            "      }\n",
            "    ]\n",
            "  },\n",
            "  \"practical_applications\": [\n",
            "    {\n",
            "      \"application\": \"Sentiment Analysis\",\n",
            "      \"description\": \"By understanding the nuances and context of words, word embeddings can help determine the sentiment behind texts, such as identifying whether product reviews are positive or negative.\"\n",
            "    },\n",
            "    {\n",
            "      \"application\": \"Machine Translation\",\n",
            "      \"description\": \"Word embeddings can improve machine translation by capturing semantic meanings and syntactic structures, thereby enhancing the quality of translation between languages.\"\n",
            "    },\n",
            "    {\n",
            "      \"application\": \"Information Retrieval\",\n",
            "      \"description\": \"Search engines can use word embeddings to understand the intent behind queries and improve the relevance of the results returned.\"\n",
            "    },\n",
            "    {\n",
            "      \"application\": \"Text Classification\",\n",
            "      \"description\": \"They are used to classify documents into categories, which is useful for spam detection, news article categorization, and more.\"\n",
            "    },\n",
            "    {\n",
            "      \"application\": \"Named Entity Recognition (NER)\",\n",
            "      \"description\": \"Word embeddings can help in identifying and classifying proper nouns in texts into predefined categories such as the names of persons, organizations, locations, etc.\"\n",
            "    },\n",
            "    {\n",
            "      \"application\": \"Question Answering Systems\",\n",
            "      \"description\": \"They can enhance the performance of QA systems by helping the model understand the context of the questions and the possible answers.\"\n",
            "    },\n",
            "    {\n",
            "      \"application\": \"Chatbots and Virtual Assistants\",\n",
            "      \"description\": \"Embeddings enable chatbots to understand user queries better and respond in a more human-like manner.\"\n",
            "    },\n",
            "    {\n",
            "      \"application\": \"Predictive Text and Autocorrect\",\n",
            "      \"description\": \"Word embeddings can predict the next word in a sentence and are used in autocorrect features to understand the context of misspelled words.\"\n",
            "    },\n",
            "    {\n",
            "      \"application\": \"Speech Recognition\",\n",
            "      \"description\": \"They help in converting speech to text by understanding the context and relationships between spoken words.\"\n",
            "    },\n",
            "    {\n",
            "      \"application\": \"Bioinformatics\",\n",
            "      \"description\": \"In bioinformatics, word embeddings can be used to process genetic data, helping in tasks like protein function prediction.\"\n",
            "    }\n",
            "  ]\n",
            "}\n",
            "```\u001b[00m\n",
            "\u001b[1m\u001b[92m [2024-06-29 09:28:33][DEBUG]: Working Agent: Manager\u001b[00m\n",
            "\u001b[1m\u001b[92m [2024-06-29 09:28:33][INFO]: Starting Task: To understand the prompts sent by the user and have a conversation to solve the question.\u001b[00m\n",
            "\u001b[95m \n",
            "\n",
            "\n",
            "Error executing tool. coworker mentioned not found, it must be one of the following options:\n",
            "- image analyser agent\n",
            "- conveersation q/a agent\n",
            "\n",
            "\u001b[00m\n",
            "\u001b[95m \n",
            "\n",
            "I tried reusing the same input, I must stop using this action input. I'll try something else instead.\n",
            "\n",
            "\n",
            "\u001b[00m\n",
            "Formatting errors incremented\n",
            "\n",
            "\n",
            "\u001b[1m> Entering new CrewAgentExecutor chain...\u001b[0m\n",
            "\u001b[32;1m\u001b[1;3mThought: I now can give a great answer\n",
            "\n",
            "Final Answer: \n",
            "{\n",
            "  \"Sentiment Analysis\": \"Word embeddings are crucial in sentiment analysis as they provide vector representations of words that capture the contextual nuances and sentiment of words. This allows models to understand sentiment in a more nuanced way, leading to more accurate analysis of text data for determining whether the sentiment is positive, negative, or neutral.\",\n",
            "  \"Machine Translation\": \"In machine translation, word embeddings play a significant role by representing words in a dense vector space, which helps in capturing semantic and syntactic meanings across different languages. This facilitates the translation process and improves the quality of machine-translated content.\",\n",
            "  \"Information Retrieval\": \"Word embeddings enhance information retrieval systems by enabling them to understand the semantic similarity between query terms and documents. This results in more relevant search results and improves the user's ability to find the information they are looking for.\",\n",
            "  \"Text Classification\": \"Word embeddings are used in text classification to convert text data into numerical form that machine learning models can process. By understanding the context and meaning of words, embeddings help in accurately categorizing text into predefined classes or topics.\",\n",
            "  \"Named Entity Recognition (NER)\": \"NER systems benefit from word embeddings as they help in identifying and classifying named entities in text by understanding the context in which they appear. This is essential for extracting information such as names of people, organizations, locations, etc.\",\n",
            "  \"Question Answering Systems\": \"Word embeddings are integral to question answering systems as they help in understanding the semantics of both the question and the potential answers. This enables the system to provide accurate and relevant answers to user queries.\",\n",
            "  \"Chatbots and Virtual Assistants\": \"Chatbots and virtual assistants use word embeddings to comprehend user input and respond in a contextually appropriate manner. This leads to more natural and effective human-computer interactions.\",\n",
            "  \"Predictive Text and Autocorrect\": \"Predictive text and autocorrect features leverage word embeddings to suggest the next word a user might type or to correct misspelled words by understanding the context of the sentence.\",\n",
            "  \"Speech Recognition\": \"In speech recognition, word embeddings are used to convert spoken language into text by understanding the spoken words in context. This helps in improving the accuracy of transcribing speech to text.\",\n",
            "  \"Bioinformatics\": \"Word embeddings are applied in bioinformatics for tasks such as analyzing genetic sequences by representing the sequences as vectors, which can then be used to find patterns and relationships in biological data.\"\n",
            "}\u001b[0m\n",
            "\n",
            "\u001b[1m> Finished chain.\u001b[0m\n",
            "\u001b[95m \n",
            "\n",
            "{\n",
            "  \"Sentiment Analysis\": \"Word embeddings are crucial in sentiment analysis as they provide vector representations of words that capture the contextual nuances and sentiment of words. This allows models to understand sentiment in a more nuanced way, leading to more accurate analysis of text data for determining whether the sentiment is positive, negative, or neutral.\",\n",
            "  \"Machine Translation\": \"In machine translation, word embeddings play a significant role by representing words in a dense vector space, which helps in capturing semantic and syntactic meanings across different languages. This facilitates the translation process and improves the quality of machine-translated content.\",\n",
            "  \"Information Retrieval\": \"Word embeddings enhance information retrieval systems by enabling them to understand the semantic similarity between query terms and documents. This results in more relevant search results and improves the user's ability to find the information they are looking for.\",\n",
            "  \"Text Classification\": \"Word embeddings are used in text classification to convert text data into numerical form that machine learning models can process. By understanding the context and meaning of words, embeddings help in accurately categorizing text into predefined classes or topics.\",\n",
            "  \"Named Entity Recognition (NER)\": \"NER systems benefit from word embeddings as they help in identifying and classifying named entities in text by understanding the context in which they appear. This is essential for extracting information such as names of people, organizations, locations, etc.\",\n",
            "  \"Question Answering Systems\": \"Word embeddings are integral to question answering systems as they help in understanding the semantics of both the question and the potential answers. This enables the system to provide accurate and relevant answers to user queries.\",\n",
            "  \"Chatbots and Virtual Assistants\": \"Chatbots and virtual assistants use word embeddings to comprehend user input and respond in a contextually appropriate manner. This leads to more natural and effective human-computer interactions.\",\n",
            "  \"Predictive Text and Autocorrect\": \"Predictive text and autocorrect features leverage word embeddings to suggest the next word a user might type or to correct misspelled words by understanding the context of the sentence.\",\n",
            "  \"Speech Recognition\": \"In speech recognition, word embeddings are used to convert spoken language into text by understanding the spoken words in context. This helps in improving the accuracy of transcribing speech to text.\",\n",
            "  \"Bioinformatics\": \"Word embeddings are applied in bioinformatics for tasks such as analyzing genetic sequences by representing the sequences as vectors, which can then be used to find patterns and relationships in biological data.\"\n",
            "}\n",
            "\u001b[00m\n",
            "\n",
            "\n",
            "\u001b[1m> Entering new CrewAgentExecutor chain...\u001b[0m\n",
            "\u001b[32;1m\u001b[1;3mI now can give a great answer\n",
            "\n",
            "Final Answer:\n",
            "{\n",
            "  \"Word_Embeddings_Image_Analysis\": {\n",
            "    \"description\": \"The image illustrates the concept of word embeddings in natural language processing (NLP). It shows several circles representing different words, with lines connecting them to indicate relationships. The words are positioned to demonstrate clustering of similar words based on context and meaning.\",\n",
            "    \"objects\": [\"circles\", \"lines\", \"words\"],\n",
            "    \"colors\": \"Various colors representing different clusters\",\n",
            "    \"importance_in_NLP\": \"Word embeddings are essential in NLP as they enable words with similar meanings to have a similar representation. This is crucial for capturing the context of words, their meaning, and their relationship with other words, which is fundamental for tasks such as text classification, sentiment analysis, and machine translation.\"\n",
            "  }\n",
            "}\u001b[0m\n",
            "\n",
            "\u001b[1m> Finished chain.\u001b[0m\n",
            "\u001b[95m \n",
            "\n",
            "{\n",
            "  \"Word_Embeddings_Image_Analysis\": {\n",
            "    \"description\": \"The image illustrates the concept of word embeddings in natural language processing (NLP). It shows several circles representing different words, with lines connecting them to indicate relationships. The words are positioned to demonstrate clustering of similar words based on context and meaning.\",\n",
            "    \"objects\": [\"circles\", \"lines\", \"words\"],\n",
            "    \"colors\": \"Various colors representing different clusters\",\n",
            "    \"importance_in_NLP\": \"Word embeddings are essential in NLP as they enable words with similar meanings to have a similar representation. This is crucial for capturing the context of words, their meaning, and their relationship with other words, which is fundamental for tasks such as text classification, sentiment analysis, and machine translation.\"\n",
            "  }\n",
            "}\n",
            "\u001b[00m\n",
            "\u001b[1m\u001b[92m [2024-06-29 09:29:13][DEBUG]: [Manager] Task output: ```json\n",
            "{\n",
            "  \"image_analysis\": {\n",
            "    \"Word_Embeddings.png\": [\n",
            "      {\n",
            "        \"description\": \"The image depicts a diagram illustrating the concept of word embeddings in natural language processing (NLP). There are several circles representing different words, with lines connecting them to indicate relationships. The words are positioned in a way that shows clustering of similar words based on context and meaning.\",\n",
            "        \"objects\": [\"circles\", \"lines\", \"words\"],\n",
            "        \"colors\": [\"various colors representing different clusters\"],\n",
            "        \"context\": \"Word embeddings are a type of word representation that allows words with similar meaning to have a similar representation. They are a crucial part of NLP as they help in capturing the context of words, their meaning, and their relationship with other words.\"\n",
            "      }\n",
            "    ]\n",
            "  },\n",
            "  \"practical_applications\": [\n",
            "    {\n",
            "      \"application\": \"Sentiment Analysis\",\n",
            "      \"description\": \"Word embeddings are crucial in sentiment analysis as they provide vector representations of words that capture the contextual nuances and sentiment of words. This allows models to understand sentiment in a more nuanced way, leading to more accurate analysis of text data for determining whether the sentiment is positive, negative, or neutral.\"\n",
            "    },\n",
            "    {\n",
            "      \"application\": \"Machine Translation\",\n",
            "      \"description\": \"In machine translation, word embeddings play a significant role by representing words in a dense vector space, which helps in capturing semantic and syntactic meanings across different languages. This facilitates the translation process and improves the quality of machine-translated content.\"\n",
            "    },\n",
            "    {\n",
            "      \"application\": \"Information Retrieval\",\n",
            "      \"description\": \"Word embeddings enhance information retrieval systems by enabling them to understand the semantic similarity between query terms and documents. This results in more relevant search results and improves the user's ability to find the information they are looking for.\"\n",
            "    },\n",
            "    {\n",
            "      \"application\": \"Text Classification\",\n",
            "      \"description\": \"Word embeddings are used in text classification to convert text data into numerical form that machine learning models can process. By understanding the context and meaning of words, embeddings help in accurately categorizing text into predefined classes or topics.\"\n",
            "    },\n",
            "    {\n",
            "      \"application\": \"Named Entity Recognition (NER)\",\n",
            "      \"description\": \"NER systems benefit from word embeddings as they help in identifying and classifying named entities in text by understanding the context in which they appear. This is essential for extracting information such as names of people, organizations, locations, etc.\"\n",
            "    },\n",
            "    {\n",
            "      \"application\": \"Question Answering Systems\",\n",
            "      \"description\": \"Word embeddings are integral to question answering systems as they help in understanding the semantics of both the question and the potential answers. This enables the system to provide accurate and relevant answers to user queries.\"\n",
            "    },\n",
            "    {\n",
            "      \"application\": \"Chatbots and Virtual Assistants\",\n",
            "      \"description\": \"Chatbots and virtual assistants use word embeddings to comprehend user input and respond in a contextually appropriate manner. This leads to more natural and effective human-computer interactions.\"\n",
            "    },\n",
            "    {\n",
            "      \"application\": \"Predictive Text and Autocorrect\",\n",
            "      \"description\": \"Predictive text and autocorrect features leverage word embeddings to suggest the next word a user might type or to correct misspelled words by understanding the context of the sentence.\"\n",
            "    },\n",
            "    {\n",
            "      \"application\": \"Speech Recognition\",\n",
            "      \"description\": \"In speech recognition, word embeddings are used to convert spoken language into text by understanding the spoken words in context. This helps in improving the accuracy of transcribing speech to text.\"\n",
            "    },\n",
            "    {\n",
            "      \"application\": \"Bioinformatics\",\n",
            "      \"description\": \"Word embeddings are applied in bioinformatics for tasks such as analyzing genetic sequences by representing the sequences as vectors, which can then be used to find patterns and relationships in biological data.\"\n",
            "    }\n",
            "  ]\n",
            "}\n",
            "```\u001b[00m\n",
            "######################\n",
            "```json\n",
            "{\n",
            "  \"image_analysis\": {\n",
            "    \"Word_Embeddings.png\": [\n",
            "      {\n",
            "        \"description\": \"The image depicts a diagram illustrating the concept of word embeddings in natural language processing (NLP). There are several circles representing different words, with lines connecting them to indicate relationships. The words are positioned in a way that shows clustering of similar words based on context and meaning.\",\n",
            "        \"objects\": [\"circles\", \"lines\", \"words\"],\n",
            "        \"colors\": [\"various colors representing different clusters\"],\n",
            "        \"context\": \"Word embeddings are a type of word representation that allows words with similar meaning to have a similar representation. They are a crucial part of NLP as they help in capturing the context of words, their meaning, and their relationship with other words.\"\n",
            "      }\n",
            "    ]\n",
            "  },\n",
            "  \"practical_applications\": [\n",
            "    {\n",
            "      \"application\": \"Sentiment Analysis\",\n",
            "      \"description\": \"Word embeddings are crucial in sentiment analysis as they provide vector representations of words that capture the contextual nuances and sentiment of words. This allows models to understand sentiment in a more nuanced way, leading to more accurate analysis of text data for determining whether the sentiment is positive, negative, or neutral.\"\n",
            "    },\n",
            "    {\n",
            "      \"application\": \"Machine Translation\",\n",
            "      \"description\": \"In machine translation, word embeddings play a significant role by representing words in a dense vector space, which helps in capturing semantic and syntactic meanings across different languages. This facilitates the translation process and improves the quality of machine-translated content.\"\n",
            "    },\n",
            "    {\n",
            "      \"application\": \"Information Retrieval\",\n",
            "      \"description\": \"Word embeddings enhance information retrieval systems by enabling them to understand the semantic similarity between query terms and documents. This results in more relevant search results and improves the user's ability to find the information they are looking for.\"\n",
            "    },\n",
            "    {\n",
            "      \"application\": \"Text Classification\",\n",
            "      \"description\": \"Word embeddings are used in text classification to convert text data into numerical form that machine learning models can process. By understanding the context and meaning of words, embeddings help in accurately categorizing text into predefined classes or topics.\"\n",
            "    },\n",
            "    {\n",
            "      \"application\": \"Named Entity Recognition (NER)\",\n",
            "      \"description\": \"NER systems benefit from word embeddings as they help in identifying and classifying named entities in text by understanding the context in which they appear. This is essential for extracting information such as names of people, organizations, locations, etc.\"\n",
            "    },\n",
            "    {\n",
            "      \"application\": \"Question Answering Systems\",\n",
            "      \"description\": \"Word embeddings are integral to question answering systems as they help in understanding the semantics of both the question and the potential answers. This enables the system to provide accurate and relevant answers to user queries.\"\n",
            "    },\n",
            "    {\n",
            "      \"application\": \"Chatbots and Virtual Assistants\",\n",
            "      \"description\": \"Chatbots and virtual assistants use word embeddings to comprehend user input and respond in a contextually appropriate manner. This leads to more natural and effective human-computer interactions.\"\n",
            "    },\n",
            "    {\n",
            "      \"application\": \"Predictive Text and Autocorrect\",\n",
            "      \"description\": \"Predictive text and autocorrect features leverage word embeddings to suggest the next word a user might type or to correct misspelled words by understanding the context of the sentence.\"\n",
            "    },\n",
            "    {\n",
            "      \"application\": \"Speech Recognition\",\n",
            "      \"description\": \"In speech recognition, word embeddings are used to convert spoken language into text by understanding the spoken words in context. This helps in improving the accuracy of transcribing speech to text.\"\n",
            "    },\n",
            "    {\n",
            "      \"application\": \"Bioinformatics\",\n",
            "      \"description\": \"Word embeddings are applied in bioinformatics for tasks such as analyzing genetic sequences by representing the sequences as vectors, which can then be used to find patterns and relationships in biological data.\"\n",
            "    }\n",
            "  ]\n",
            "}\n",
            "```\n"
          ]
        }
      ]
    },
    {
      "cell_type": "code",
      "source": [],
      "metadata": {
        "id": "R9g0iKBnPKA0"
      },
      "execution_count": null,
      "outputs": []
    }
  ]
}